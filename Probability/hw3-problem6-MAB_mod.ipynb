{
 "cells": [
  {
   "cell_type": "code",
   "execution_count": 1,
   "id": "1125b282-6f27-4510-be72-dbae13797e35",
   "metadata": {},
   "outputs": [
    {
     "name": "stdout",
     "output_type": "stream",
     "text": [
      "Warning: numba.jit seems to not be available. Using a dummy decorator for numba.jit() ...\n",
      "If you want the speed up brought by numba.jit, try to manually install numba and check that it works (installing llvmlite can be tricky, cf. https://github.com/numba/numba#custom-python-environments\n",
      "Info: Using the Jupyter notebook version of the tqdm() decorator, tqdm_notebook() ...\n",
      "ERROR: 'resource' module not available, but it is in the standard library.\n",
      "Have you messed up your Python installation?\n",
      "Are you on Windows? In this case, it's okay.\n",
      "Please submit a new bug on https://github.com/SMPyBandits/SMPyBandits/issues/new\n",
      "Warning: numba.jit seems to not be available. Using a dummy decorator for numba.jit() ...\n",
      "If you want the speed up brought by numba.jit, try to manually install numba and check that it works (installing llvmlite can be tricky, cf. https://github.com/numba/numba#custom-python-environments\n"
     ]
    }
   ],
   "source": [
    "import numpy.random as rn\n",
    "from random import random\n",
    "import numpy as np\n",
    "# Local imports\n",
    "from SMPyBandits.Environment import Evaluator, tqdm\n",
    "# Import arms\n",
    "from SMPyBandits.Arms import Bernoulli\n"
   ]
  },
  {
   "cell_type": "code",
   "execution_count": 2,
   "id": "7bf27801-cd20-4a02-8ea8-fd9ac04bd7f0",
   "metadata": {},
   "outputs": [],
   "source": [
    "# Import algorithms\n",
    "from SMPyBandits.Policies import EmpiricalMeans, EpsilonGreedy, UCB\n",
    "from SMPyBandits.Policies.IndexPolicy import IndexPolicy\n",
    "from SMPyBandits.Policies.BasePolicy import BasePolicy\n",
    "from SMPyBandits.Policies.with_proba import with_proba"
   ]
  },
  {
   "cell_type": "code",
   "execution_count": null,
   "id": "7831206c-ac23-4adf-b2ec-03bc82751f99",
   "metadata": {},
   "outputs": [],
   "source": [
    "#EmpiricalMeans?"
   ]
  },
  {
   "cell_type": "code",
   "execution_count": null,
   "id": "ea8a1420-f113-44a3-bd34-bfb90f408d12",
   "metadata": {},
   "outputs": [],
   "source": [
    "#EmpiricalMeans??"
   ]
  },
  {
   "cell_type": "code",
   "execution_count": 3,
   "id": "032fcdbd-41e3-47d9-afea-8dd2dadc43b1",
   "metadata": {},
   "outputs": [],
   "source": [
    "# MAB environment parameters\n",
    "HORIZON = 10000\n",
    "REPETITIONS = 100 # Number of repetition of the experiment (to have an average)\n",
    "N_JOBS = 1 # Number of CPU cores\n",
    "\n",
    "#: Default value for epsilon for `YourEpsilonGreedy`\n",
    "EPSILON = 0.1"
   ]
  },
  {
   "cell_type": "code",
   "execution_count": 4,
   "id": "b1e20b8f-ba82-49a5-945d-ed35b7a1d0c2",
   "metadata": {},
   "outputs": [],
   "source": [
    "ENVIRONMENTS = [  # 1)  Bernoulli arms\n",
    "        {   # An easy but widely adopted problem\n",
    "            \"arm_type\": Bernoulli,\n",
    "            \"params\": [0.1, 0.2, 0.3, 0.4, 0.5, 0.6, 0.7, 0.8, 0.9]\n",
    "        },\n",
    "        {   # An other problem, best arm = last, with three groups: very bad arms (0.01, 0.02), middle arms (0.3 - 0.6) and very good arms (0.78, 0.8, 0.82)\n",
    "            \"arm_type\": Bernoulli,\n",
    "            \"params\": [0.01, 0.02, 0.3, 0.4, 0.5, 0.6, 0.795, 0.8, 0.805]\n",
    "        },\n",
    "        {   # A very hard problem, as used in [Cappé et al, 2012]\n",
    "            \"arm_type\": Bernoulli,\n",
    "            \"params\": [0.01, 0.01, 0.01, 0.02, 0.02, 0.02, 0.05, 0.05, 0.1]\n",
    "        },\n",
    "    ]"
   ]
  },
  {
   "cell_type": "code",
   "execution_count": 5,
   "id": "0b0740d6-6b39-4f68-9067-bbfe464ae779",
   "metadata": {},
   "outputs": [],
   "source": [
    "\n",
    "class YourEpsilonGreedy(BasePolicy):\n",
    "    r\"\"\" The epsilon-greedy random policy.\n",
    "    \"\"\"\n",
    "\n",
    "    def __init__(self, nbArms, epsilon=EPSILON, lower=0., amplitude=1.):\n",
    "        super(YourEpsilonGreedy, self).__init__(nbArms, lower=lower, amplitude=amplitude)\n",
    "        assert 0 <= epsilon <= 1, \"Error: the 'epsilon' parameter for YourEpsilonGreedy has to be in [0, 1].\"  # For DEBUG\n",
    "        self._epsilon = epsilon\n",
    "\n",
    "\n",
    "    # This decorator @property makes this method an attribute, cf. https://docs.python.org/3/library/functions.html#property\n",
    "    @property\n",
    "    def epsilon(self):  # This allows us to use time-dependent epsilon coef\n",
    "        return self._epsilon\n",
    "\n",
    "    def choice(self):\n",
    "        \"\"\"With a probability of epsilon, explore (uniform choice), otherwhise exploit based on empirical mean rewards.\"\"\"\n",
    "        #----------Your Code----------#\n",
    "        \n",
    "        if random() < self.epsilon:\n",
    "            # Exploration: choose a random arm\n",
    "            return rn.randint(self.nbArms)\n",
    "        else:\n",
    "            # Exploitation: choose the best arm\n",
    "            return np.argmax(self.rewards)\n",
    "        \n",
    "        #----------End of Your Code----------#\n",
    "   "
   ]
  },
  {
   "cell_type": "code",
   "execution_count": 15,
   "id": "0a7e9d85-d66e-4770-8627-f95575ec847d",
   "metadata": {},
   "outputs": [],
   "source": [
    "POLICIES = [\n",
    "        # --- EmpiricalMeans (or Greedy) algorithm, a baseline for comparison\n",
    "        {\n",
    "            \"archtype\": EmpiricalMeans,\n",
    "            \"params\": {}\n",
    "        },\n",
    "        # --- UCB algorithm, a baseline for comparison\n",
    "        {\n",
    "            \"archtype\": UCB,\n",
    "            \"params\": {}\n",
    "        },\n",
    "        # --- YourEpsilonGreedy algorithm\n",
    "        {\n",
    "            \"archtype\": YourEpsilonGreedy,\n",
    "            \"params\": {\"epsilon\": 0.01}\n",
    "        },\n",
    "    ]"
   ]
  },
  {
   "cell_type": "code",
   "execution_count": 16,
   "id": "642164b3-aed0-4a29-8f07-e4af50afa2af",
   "metadata": {},
   "outputs": [
    {
     "data": {
      "text/plain": [
       "{'horizon': 10000,\n",
       " 'repetitions': 100,\n",
       " 'n_jobs': 1,\n",
       " 'verbosity': 6,\n",
       " 'environment': [{'arm_type': SMPyBandits.Arms.Bernoulli.Bernoulli,\n",
       "   'params': [0.1, 0.2, 0.3, 0.4, 0.5, 0.6, 0.7, 0.8, 0.9]},\n",
       "  {'arm_type': SMPyBandits.Arms.Bernoulli.Bernoulli,\n",
       "   'params': [0.01, 0.02, 0.3, 0.4, 0.5, 0.6, 0.795, 0.8, 0.805]},\n",
       "  {'arm_type': SMPyBandits.Arms.Bernoulli.Bernoulli,\n",
       "   'params': [0.01, 0.01, 0.01, 0.02, 0.02, 0.02, 0.05, 0.05, 0.1]}],\n",
       " 'policies': [{'archtype': SMPyBandits.Policies.EmpiricalMeans.EmpiricalMeans,\n",
       "   'params': {}},\n",
       "  {'archtype': SMPyBandits.Policies.UCB.UCB, 'params': {}},\n",
       "  {'archtype': __main__.YourEpsilonGreedy, 'params': {'epsilon': 0.01}}]}"
      ]
     },
     "execution_count": 16,
     "metadata": {},
     "output_type": "execute_result"
    }
   ],
   "source": [
    "configuration = {\n",
    "    # --- Duration of the experiment\n",
    "    \"horizon\": HORIZON,\n",
    "    # --- Number of repetition of the experiment (to have an average)\n",
    "    \"repetitions\": REPETITIONS,\n",
    "    # --- Parameters for the use of joblib.Parallel\n",
    "    \"n_jobs\": N_JOBS,    # Number of CPU cores\n",
    "    \"verbosity\": 6,      # Max joblib verbosity\n",
    "    # --- Arms\n",
    "    \"environment\": ENVIRONMENTS,\n",
    "    # --- Algorithms\n",
    "    \"policies\": POLICIES,\n",
    "}\n",
    "configuration"
   ]
  },
  {
   "cell_type": "code",
   "execution_count": 17,
   "id": "7375bc61-62cb-424e-b97e-4ad378b6e461",
   "metadata": {},
   "outputs": [
    {
     "name": "stdout",
     "output_type": "stream",
     "text": [
      "Number of policies in this comparison: 3\n",
      "Time horizon: 10000\n",
      "Number of repetitions: 100\n",
      "Sampling rate for plotting, delta_t_plot: 1\n",
      "Number of jobs for parallelization: 1\n",
      "Using this dictionary to create a new environment:\n",
      " {'arm_type': <class 'SMPyBandits.Arms.Bernoulli.Bernoulli'>, 'params': [0.1, 0.2, 0.3, 0.4, 0.5, 0.6, 0.7, 0.8, 0.9]}\n",
      "\n",
      "\n",
      "Creating a new MAB problem ...\n",
      "  Reading arms of this MAB problem from a dictionnary 'configuration' = {'arm_type': <class 'SMPyBandits.Arms.Bernoulli.Bernoulli'>, 'params': [0.1, 0.2, 0.3, 0.4, 0.5, 0.6, 0.7, 0.8, 0.9]} ...\n",
      " - with 'arm_type' = <class 'SMPyBandits.Arms.Bernoulli.Bernoulli'>\n",
      " - with 'params' = [0.1, 0.2, 0.3, 0.4, 0.5, 0.6, 0.7, 0.8, 0.9]\n",
      " - with 'arms' = [B(0.1), B(0.2), B(0.3), B(0.4), B(0.5), B(0.6), B(0.7), B(0.8), B(0.9)]\n",
      " - with 'means' = [0.1 0.2 0.3 0.4 0.5 0.6 0.7 0.8 0.9]\n",
      " - with 'nbArms' = 9\n",
      " - with 'maxArm' = 0.9\n",
      " - with 'minArm' = 0.1\n",
      "\n",
      "This MAB problem has: \n",
      " - a [Lai & Robbins] complexity constant C(mu) = 7.52 ... \n",
      " - a Optimal Arm Identification factor H_OI(mu) = 48.89% ...\n",
      " - with 'arms' represented as: $[B(0.1), B(0.2), B(0.3), B(0.4), B(0.5), B(0.6), B(0.7), B(0.8), B(0.9)^*]$\n",
      "Using this dictionary to create a new environment:\n",
      " {'arm_type': <class 'SMPyBandits.Arms.Bernoulli.Bernoulli'>, 'params': [0.01, 0.02, 0.3, 0.4, 0.5, 0.6, 0.795, 0.8, 0.805]}\n",
      "\n",
      "\n",
      "Creating a new MAB problem ...\n",
      "  Reading arms of this MAB problem from a dictionnary 'configuration' = {'arm_type': <class 'SMPyBandits.Arms.Bernoulli.Bernoulli'>, 'params': [0.01, 0.02, 0.3, 0.4, 0.5, 0.6, 0.795, 0.8, 0.805]} ...\n",
      " - with 'arm_type' = <class 'SMPyBandits.Arms.Bernoulli.Bernoulli'>\n",
      " - with 'params' = [0.01, 0.02, 0.3, 0.4, 0.5, 0.6, 0.795, 0.8, 0.805]\n",
      " - with 'arms' = [B(0.01), B(0.02), B(0.3), B(0.4), B(0.5), B(0.6), B(0.795), B(0.8), B(0.805)]\n",
      " - with 'means' = [0.01  0.02  0.3   0.4   0.5   0.6   0.795 0.8   0.805]\n",
      " - with 'nbArms' = 9\n",
      " - with 'maxArm' = 0.805\n",
      " - with 'minArm' = 0.01\n",
      "\n",
      "This MAB problem has: \n",
      " - a [Lai & Robbins] complexity constant C(mu) = 101 ... \n",
      " - a Optimal Arm Identification factor H_OI(mu) = 55.39% ...\n",
      " - with 'arms' represented as: $[B(0.01), B(0.02), B(0.3), B(0.4), B(0.5), B(0.6), B(0.795), B(0.8), B(0.805)^*]$\n",
      "Using this dictionary to create a new environment:\n",
      " {'arm_type': <class 'SMPyBandits.Arms.Bernoulli.Bernoulli'>, 'params': [0.01, 0.01, 0.01, 0.02, 0.02, 0.02, 0.05, 0.05, 0.1]}\n",
      "\n",
      "\n",
      "Creating a new MAB problem ...\n",
      "  Reading arms of this MAB problem from a dictionnary 'configuration' = {'arm_type': <class 'SMPyBandits.Arms.Bernoulli.Bernoulli'>, 'params': [0.01, 0.01, 0.01, 0.02, 0.02, 0.02, 0.05, 0.05, 0.1]} ...\n",
      " - with 'arm_type' = <class 'SMPyBandits.Arms.Bernoulli.Bernoulli'>\n",
      " - with 'params' = [0.01, 0.01, 0.01, 0.02, 0.02, 0.02, 0.05, 0.05, 0.1]\n",
      " - with 'arms' = [B(0.01), B(0.01), B(0.01), B(0.02), B(0.02), B(0.02), B(0.05), B(0.05), B(0.1)]\n",
      " - with 'means' = [0.01 0.01 0.01 0.02 0.02 0.02 0.05 0.05 0.1 ]\n",
      " - with 'nbArms' = 9\n",
      " - with 'maxArm' = 0.1\n",
      " - with 'minArm' = 0.01\n",
      "\n",
      "This MAB problem has: \n",
      " - a [Lai & Robbins] complexity constant C(mu) = 14.5 ... \n",
      " - a Optimal Arm Identification factor H_OI(mu) = 82.11% ...\n",
      " - with 'arms' represented as: $[B(0.01), B(0.01), B(0.01), B(0.02), B(0.02), B(0.02), B(0.05), B(0.05), B(0.1)^*]$\n",
      "Number of environments to try: 3\n"
     ]
    }
   ],
   "source": [
    "# Creating the Evaluator object\n",
    "evaluation = Evaluator(configuration)"
   ]
  },
  {
   "cell_type": "code",
   "execution_count": 19,
   "id": "ad94d023-8ca4-4dd1-8083-73039a678620",
   "metadata": {},
   "outputs": [
    {
     "name": "stderr",
     "output_type": "stream",
     "text": [
      "C:\\Users\\zyqio\\AppData\\Local\\Temp\\ipykernel_40092\\169813694.py:1: TqdmDeprecationWarning: This function will be removed in tqdm==5.0.0\n",
      "Please use `tqdm.notebook.tqdm` instead of `tqdm.tqdm_notebook`\n",
      "  for envId, env in tqdm(enumerate(evaluation.envs), desc=\"Problems\"):\n"
     ]
    },
    {
     "ename": "ImportError",
     "evalue": "IProgress not found. Please update jupyter and ipywidgets. See https://ipywidgets.readthedocs.io/en/stable/user_install.html",
     "output_type": "error",
     "traceback": [
      "\u001b[1;31m---------------------------------------------------------------------------\u001b[0m",
      "\u001b[1;31mImportError\u001b[0m                               Traceback (most recent call last)",
      "Cell \u001b[1;32mIn[19], line 1\u001b[0m\n\u001b[1;32m----> 1\u001b[0m \u001b[38;5;28;01mfor\u001b[39;00m envId, env \u001b[38;5;129;01min\u001b[39;00m \u001b[43mtqdm\u001b[49m\u001b[43m(\u001b[49m\u001b[38;5;28;43menumerate\u001b[39;49m\u001b[43m(\u001b[49m\u001b[43mevaluation\u001b[49m\u001b[38;5;241;43m.\u001b[39;49m\u001b[43menvs\u001b[49m\u001b[43m)\u001b[49m\u001b[43m,\u001b[49m\u001b[43m \u001b[49m\u001b[43mdesc\u001b[49m\u001b[38;5;241;43m=\u001b[39;49m\u001b[38;5;124;43m\"\u001b[39;49m\u001b[38;5;124;43mProblems\u001b[39;49m\u001b[38;5;124;43m\"\u001b[39;49m\u001b[43m)\u001b[49m:\n\u001b[0;32m      2\u001b[0m     \u001b[38;5;66;03m# Evaluate just that env\u001b[39;00m\n\u001b[0;32m      3\u001b[0m     evaluation\u001b[38;5;241m.\u001b[39mstartOneEnv(envId, env)\n",
      "File \u001b[1;32mc:\\Users\\zyqio\\AppData\\Local\\Programs\\Python\\Python312\\Lib\\site-packages\\tqdm\\__init__.py:28\u001b[0m, in \u001b[0;36mtqdm_notebook\u001b[1;34m(*args, **kwargs)\u001b[0m\n\u001b[0;32m     24\u001b[0m \u001b[38;5;28;01mfrom\u001b[39;00m \u001b[38;5;21;01m.\u001b[39;00m\u001b[38;5;21;01mnotebook\u001b[39;00m \u001b[38;5;28;01mimport\u001b[39;00m tqdm \u001b[38;5;28;01mas\u001b[39;00m _tqdm_notebook\n\u001b[0;32m     25\u001b[0m warn(\u001b[38;5;124m\"\u001b[39m\u001b[38;5;124mThis function will be removed in tqdm==5.0.0\u001b[39m\u001b[38;5;130;01m\\n\u001b[39;00m\u001b[38;5;124m\"\u001b[39m\n\u001b[0;32m     26\u001b[0m      \u001b[38;5;124m\"\u001b[39m\u001b[38;5;124mPlease use `tqdm.notebook.tqdm` instead of `tqdm.tqdm_notebook`\u001b[39m\u001b[38;5;124m\"\u001b[39m,\n\u001b[0;32m     27\u001b[0m      TqdmDeprecationWarning, stacklevel\u001b[38;5;241m=\u001b[39m\u001b[38;5;241m2\u001b[39m)\n\u001b[1;32m---> 28\u001b[0m \u001b[38;5;28;01mreturn\u001b[39;00m \u001b[43m_tqdm_notebook\u001b[49m\u001b[43m(\u001b[49m\u001b[38;5;241;43m*\u001b[39;49m\u001b[43margs\u001b[49m\u001b[43m,\u001b[49m\u001b[43m \u001b[49m\u001b[38;5;241;43m*\u001b[39;49m\u001b[38;5;241;43m*\u001b[39;49m\u001b[43mkwargs\u001b[49m\u001b[43m)\u001b[49m\n",
      "File \u001b[1;32mc:\\Users\\zyqio\\AppData\\Local\\Programs\\Python\\Python312\\Lib\\site-packages\\tqdm\\notebook.py:234\u001b[0m, in \u001b[0;36mtqdm_notebook.__init__\u001b[1;34m(self, *args, **kwargs)\u001b[0m\n\u001b[0;32m    232\u001b[0m unit_scale \u001b[38;5;241m=\u001b[39m \u001b[38;5;241m1\u001b[39m \u001b[38;5;28;01mif\u001b[39;00m \u001b[38;5;28mself\u001b[39m\u001b[38;5;241m.\u001b[39munit_scale \u001b[38;5;129;01mis\u001b[39;00m \u001b[38;5;28;01mTrue\u001b[39;00m \u001b[38;5;28;01melse\u001b[39;00m \u001b[38;5;28mself\u001b[39m\u001b[38;5;241m.\u001b[39munit_scale \u001b[38;5;129;01mor\u001b[39;00m \u001b[38;5;241m1\u001b[39m\n\u001b[0;32m    233\u001b[0m total \u001b[38;5;241m=\u001b[39m \u001b[38;5;28mself\u001b[39m\u001b[38;5;241m.\u001b[39mtotal \u001b[38;5;241m*\u001b[39m unit_scale \u001b[38;5;28;01mif\u001b[39;00m \u001b[38;5;28mself\u001b[39m\u001b[38;5;241m.\u001b[39mtotal \u001b[38;5;28;01melse\u001b[39;00m \u001b[38;5;28mself\u001b[39m\u001b[38;5;241m.\u001b[39mtotal\n\u001b[1;32m--> 234\u001b[0m \u001b[38;5;28mself\u001b[39m\u001b[38;5;241m.\u001b[39mcontainer \u001b[38;5;241m=\u001b[39m \u001b[38;5;28;43mself\u001b[39;49m\u001b[38;5;241;43m.\u001b[39;49m\u001b[43mstatus_printer\u001b[49m\u001b[43m(\u001b[49m\u001b[38;5;28;43mself\u001b[39;49m\u001b[38;5;241;43m.\u001b[39;49m\u001b[43mfp\u001b[49m\u001b[43m,\u001b[49m\u001b[43m \u001b[49m\u001b[43mtotal\u001b[49m\u001b[43m,\u001b[49m\u001b[43m \u001b[49m\u001b[38;5;28;43mself\u001b[39;49m\u001b[38;5;241;43m.\u001b[39;49m\u001b[43mdesc\u001b[49m\u001b[43m,\u001b[49m\u001b[43m \u001b[49m\u001b[38;5;28;43mself\u001b[39;49m\u001b[38;5;241;43m.\u001b[39;49m\u001b[43mncols\u001b[49m\u001b[43m)\u001b[49m\n\u001b[0;32m    235\u001b[0m \u001b[38;5;28mself\u001b[39m\u001b[38;5;241m.\u001b[39mcontainer\u001b[38;5;241m.\u001b[39mpbar \u001b[38;5;241m=\u001b[39m proxy(\u001b[38;5;28mself\u001b[39m)\n\u001b[0;32m    236\u001b[0m \u001b[38;5;28mself\u001b[39m\u001b[38;5;241m.\u001b[39mdisplayed \u001b[38;5;241m=\u001b[39m \u001b[38;5;28;01mFalse\u001b[39;00m\n",
      "File \u001b[1;32mc:\\Users\\zyqio\\AppData\\Local\\Programs\\Python\\Python312\\Lib\\site-packages\\tqdm\\notebook.py:108\u001b[0m, in \u001b[0;36mtqdm_notebook.status_printer\u001b[1;34m(_, total, desc, ncols)\u001b[0m\n\u001b[0;32m     99\u001b[0m \u001b[38;5;66;03m# Fallback to text bar if there's no total\u001b[39;00m\n\u001b[0;32m    100\u001b[0m \u001b[38;5;66;03m# DEPRECATED: replaced with an 'info' style bar\u001b[39;00m\n\u001b[0;32m    101\u001b[0m \u001b[38;5;66;03m# if not total:\u001b[39;00m\n\u001b[1;32m   (...)\u001b[0m\n\u001b[0;32m    105\u001b[0m \n\u001b[0;32m    106\u001b[0m \u001b[38;5;66;03m# Prepare IPython progress bar\u001b[39;00m\n\u001b[0;32m    107\u001b[0m \u001b[38;5;28;01mif\u001b[39;00m IProgress \u001b[38;5;129;01mis\u001b[39;00m \u001b[38;5;28;01mNone\u001b[39;00m:  \u001b[38;5;66;03m# #187 #451 #558 #872\u001b[39;00m\n\u001b[1;32m--> 108\u001b[0m     \u001b[38;5;28;01mraise\u001b[39;00m \u001b[38;5;167;01mImportError\u001b[39;00m(WARN_NOIPYW)\n\u001b[0;32m    109\u001b[0m \u001b[38;5;28;01mif\u001b[39;00m total:\n\u001b[0;32m    110\u001b[0m     pbar \u001b[38;5;241m=\u001b[39m IProgress(\u001b[38;5;28mmin\u001b[39m\u001b[38;5;241m=\u001b[39m\u001b[38;5;241m0\u001b[39m, \u001b[38;5;28mmax\u001b[39m\u001b[38;5;241m=\u001b[39mtotal)\n",
      "\u001b[1;31mImportError\u001b[0m: IProgress not found. Please update jupyter and ipywidgets. See https://ipywidgets.readthedocs.io/en/stable/user_install.html"
     ]
    }
   ],
   "source": [
    "for envId, env in tqdm(enumerate(evaluation.envs), desc=\"Problems\"):\n",
    "    # Evaluate just that env\n",
    "    evaluation.startOneEnv(envId, env)"
   ]
  },
  {
   "cell_type": "code",
   "execution_count": 20,
   "id": "7bec37ad-ff87-4f28-9569-cb1058a4f703",
   "metadata": {},
   "outputs": [],
   "source": [
    "def plotAll(evaluation, envId):\n",
    "    evaluation.printFinalRanking(envId)\n",
    "    evaluation.plotRegrets(envId)"
   ]
  },
  {
   "cell_type": "code",
   "execution_count": 21,
   "id": "297c6927-3d39-4836-8c09-007f92dc72be",
   "metadata": {},
   "outputs": [
    {
     "name": "stdout",
     "output_type": "stream",
     "text": [
      "\n",
      "Giving the final ranks ...\n",
      "\n",
      "Final ranking for this environment #0 : (using less accurate estimate of the regret)\n"
     ]
    },
    {
     "ename": "IndexError",
     "evalue": "list index out of range",
     "output_type": "error",
     "traceback": [
      "\u001b[1;31m---------------------------------------------------------------------------\u001b[0m",
      "\u001b[1;31mIndexError\u001b[0m                                Traceback (most recent call last)",
      "Cell \u001b[1;32mIn[21], line 2\u001b[0m\n\u001b[0;32m      1\u001b[0m envId \u001b[38;5;241m=\u001b[39m \u001b[38;5;241m0\u001b[39m\n\u001b[1;32m----> 2\u001b[0m \u001b[43mplotAll\u001b[49m\u001b[43m(\u001b[49m\u001b[43mevaluation\u001b[49m\u001b[43m,\u001b[49m\u001b[43m \u001b[49m\u001b[43menvId\u001b[49m\u001b[43m)\u001b[49m\n",
      "Cell \u001b[1;32mIn[20], line 2\u001b[0m, in \u001b[0;36mplotAll\u001b[1;34m(evaluation, envId)\u001b[0m\n\u001b[0;32m      1\u001b[0m \u001b[38;5;28;01mdef\u001b[39;00m \u001b[38;5;21mplotAll\u001b[39m(evaluation, envId):\n\u001b[1;32m----> 2\u001b[0m     \u001b[43mevaluation\u001b[49m\u001b[38;5;241;43m.\u001b[39;49m\u001b[43mprintFinalRanking\u001b[49m\u001b[43m(\u001b[49m\u001b[43menvId\u001b[49m\u001b[43m)\u001b[49m\n\u001b[0;32m      3\u001b[0m     evaluation\u001b[38;5;241m.\u001b[39mplotRegrets(envId)\n",
      "File \u001b[1;32mc:\\Users\\zyqio\\AppData\\Local\\Programs\\Python\\Python312\\Lib\\site-packages\\SMPyBandits\\Environment\\Evaluator.py:547\u001b[0m, in \u001b[0;36mEvaluator.printFinalRanking\u001b[1;34m(self, envId, moreAccurate)\u001b[0m\n\u001b[0;32m    545\u001b[0m index_of_sorting \u001b[38;5;241m=\u001b[39m np\u001b[38;5;241m.\u001b[39margsort(lastRegret)\n\u001b[0;32m    546\u001b[0m \u001b[38;5;28;01mfor\u001b[39;00m i, k \u001b[38;5;129;01min\u001b[39;00m \u001b[38;5;28menumerate\u001b[39m(index_of_sorting):\n\u001b[1;32m--> 547\u001b[0m     policy \u001b[38;5;241m=\u001b[39m \u001b[38;5;28;43mself\u001b[39;49m\u001b[38;5;241;43m.\u001b[39;49m\u001b[43mpolicies\u001b[49m\u001b[43m[\u001b[49m\u001b[43mk\u001b[49m\u001b[43m]\u001b[49m\n\u001b[0;32m    548\u001b[0m     \u001b[38;5;28mprint\u001b[39m(\u001b[38;5;124m\"\u001b[39m\u001b[38;5;124m- Policy \u001b[39m\u001b[38;5;124m'\u001b[39m\u001b[38;5;132;01m{}\u001b[39;00m\u001b[38;5;124m'\u001b[39m\u001b[38;5;130;01m\\t\u001b[39;00m\u001b[38;5;124mwas ranked\u001b[39m\u001b[38;5;130;01m\\t\u001b[39;00m\u001b[38;5;132;01m{}\u001b[39;00m\u001b[38;5;124m / \u001b[39m\u001b[38;5;132;01m{}\u001b[39;00m\u001b[38;5;124m for this simulation\u001b[39m\u001b[38;5;130;01m\\n\u001b[39;00m\u001b[38;5;130;01m\\t\u001b[39;00m\u001b[38;5;124m(last regret = \u001b[39m\u001b[38;5;132;01m{:.5g}\u001b[39;00m\u001b[38;5;124m,\u001b[39m\u001b[38;5;130;01m\\t\u001b[39;00m\u001b[38;5;124mtotal regret = \u001b[39m\u001b[38;5;132;01m{:.5g}\u001b[39;00m\u001b[38;5;124m,\u001b[39m\u001b[38;5;130;01m\\t\u001b[39;00m\u001b[38;5;124mtotal reward = \u001b[39m\u001b[38;5;132;01m{:.5g}\u001b[39;00m\u001b[38;5;124m,\u001b[39m\u001b[38;5;130;01m\\t\u001b[39;00m\u001b[38;5;124mtotal weighted selection = \u001b[39m\u001b[38;5;132;01m{:.5g}\u001b[39;00m\u001b[38;5;124m).\u001b[39m\u001b[38;5;124m\"\u001b[39m\u001b[38;5;241m.\u001b[39mformat(policy\u001b[38;5;241m.\u001b[39m__cachedstr__, i \u001b[38;5;241m+\u001b[39m \u001b[38;5;241m1\u001b[39m, nbPolicies, lastRegret[k], totalRegret[k], totalRewards[k], totalWeightedSelections[k]))\n\u001b[0;32m    549\u001b[0m \u001b[38;5;28;01mreturn\u001b[39;00m lastRegret, index_of_sorting\n",
      "\u001b[1;31mIndexError\u001b[0m: list index out of range"
     ]
    }
   ],
   "source": [
    "envId = 0\n",
    "plotAll(evaluation, envId)"
   ]
  },
  {
   "cell_type": "code",
   "execution_count": null,
   "id": "37971067-c448-485a-ab90-4800b8e238ab",
   "metadata": {},
   "outputs": [],
   "source": []
  }
 ],
 "metadata": {
  "kernelspec": {
   "display_name": "Python 3",
   "language": "python",
   "name": "python3"
  },
  "language_info": {
   "codemirror_mode": {
    "name": "ipython",
    "version": 3
   },
   "file_extension": ".py",
   "mimetype": "text/x-python",
   "name": "python",
   "nbconvert_exporter": "python",
   "pygments_lexer": "ipython3",
   "version": "3.12.3"
  }
 },
 "nbformat": 4,
 "nbformat_minor": 5
}
